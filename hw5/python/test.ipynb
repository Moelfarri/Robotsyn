{
 "cells": [
  {
   "cell_type": "code",
   "execution_count": 158,
   "metadata": {},
   "outputs": [],
   "source": [
    "import numpy as np\n",
    "\n",
    "X_world = np.array([10,10,10000,1]) #a really big depth point\n",
    "\n",
    "#assuming world frame is same as camera 1\n",
    "X_camera1 = np.array([10,10,10000,1])\n",
    "X_camera1 = np.array([0.001,0.001,1,0.0001])\n",
    "\n",
    "def estimate_E(xy1, xy2):\n",
    "    n = xy1.shape[1]\n",
    "    A = np.zeros((n, 9))\n",
    "    \n",
    "    for i in range(n):\n",
    "        x1 = xy1[0,i]\n",
    "        y1 = xy1[1,i]\n",
    "        x2 = xy2[0,i]\n",
    "        y2 = xy2[1,i]\n",
    "        \n",
    "        A[i,:] = np.array([x2*x1, x2*y1, x2, y2*x1, y2*y1, y2, x1, y1, 1])\n",
    "    \n",
    "    #get V.T:\n",
    "    _,_,VT = np.linalg.svd(A)\n",
    "    V = VT.T\n",
    "    e = V[:,-1]\n",
    "\n",
    "    E = np.reshape(e,(3,3))    \n",
    "    return E\n",
    "\n",
    "\n",
    "\n",
    "def SE3(R,t):\n",
    "    T = np.eye(4)\n",
    "    T[:3,:3] = R\n",
    "    T[:3,3] = t\n",
    "    return T\n",
    "\n",
    "def decompose_E(E):\n",
    "    \"\"\"\n",
    "    Computes the four possible decompositions of E into a relative\n",
    "    pose, as described in Szeliski 7.2.\n",
    "\n",
    "    Returns a list of 4x4 transformation matrices.\n",
    "    \"\"\"\n",
    "    U,_,VT = np.linalg.svd(E)\n",
    "    R90 = np.array([[0, -1, 0], [+1, 0, 0], [0, 0, 1]])\n",
    "    R1 = U @ R90 @ VT\n",
    "    R2 = U @ R90.T @ VT\n",
    "    if np.linalg.det(R1) < 0: R1 = -R1\n",
    "    if np.linalg.det(R2) < 0: R2 = -R2\n",
    "    t1, t2 = U[:,2], -U[:,2]\n",
    "    return [SE3(R1,t1), SE3(R1,t2), SE3(R2, t1), SE3(R2, t2)]\n",
    "\n",
    "def triangulate_many(xy1, xy2, P1, P2):\n",
    "    \"\"\"\n",
    "    Arguments\n",
    "        xy: Calibrated image coordinates in image 1 and 2\n",
    "            [shape 3 x n]\n",
    "        P:  Projection matrix for image 1 and 2\n",
    "            [shape 3 x 4]\n",
    "    Returns\n",
    "        X:  Dehomogenized 3D points in world frame\n",
    "            [shape 4 x n]\n",
    "    \"\"\"\n",
    "    n = xy1.shape[1]\n",
    "    X = np.zeros((4,n)) # Placeholder, replace with your implementation\n",
    "    \n",
    "    #SVD of A to get 3D world coordinates\n",
    "    for i in range(n):\n",
    "        x1 = xy1[0,i]\n",
    "        y1 = xy1[1,i]\n",
    "        x2 = xy2[0,i]\n",
    "        y2 = xy2[1,i]\n",
    "        \n",
    "        \n",
    "        A = np.array([x1*P1[2,:] - P1[0,:],\n",
    "                      y1*P1[2,:] - P1[1,:],\n",
    "                      x2*P2[2,:] - P2[0,:],\n",
    "                      y2*P2[2,:] - P2[1,:]])\n",
    "        U, R, V = np.linalg.svd(A)\n",
    "        VT = V.T\n",
    "        X[:,i] = VT[:,-1]\n",
    "\n",
    "    UX = X\n",
    "    # NORMALIZING\n",
    "    X = X/X[-1]\n",
    "    \n",
    "    return X,UX\n"
   ]
  },
  {
   "cell_type": "code",
   "execution_count": 270,
   "metadata": {},
   "outputs": [],
   "source": [
    "#camera coords to film coords:\n",
    "K = np.loadtxt('../data/K.txt')\n",
    "xy1_tilde = np.array([[1],[42],[10000000000000]])\n",
    "xy2_tilde = np.array([[22],[13],[10000000000000]])\n",
    "\n",
    "xy1 = xy1_tilde[:2,:]/xy1_tilde[2,:]\n",
    "xy2 = xy2_tilde[:2,:]/xy2_tilde[2,:]\n"
   ]
  },
  {
   "cell_type": "code",
   "execution_count": 271,
   "metadata": {},
   "outputs": [],
   "source": [
    "E = estimate_E(xy1, xy2)"
   ]
  },
  {
   "cell_type": "code",
   "execution_count": 272,
   "metadata": {},
   "outputs": [],
   "source": [
    "P1 = np.hstack([np.eye(3),np.zeros((3,1))])\n",
    "\n",
    "#Better way of choosing P2 based on total positive z values of all X_camera2 correspondences\n",
    "def choose_best_E_for_P2(decomposed_E):\n",
    "    max_positive_z  = 0\n",
    "    for E_matrix in decomposed_E:\n",
    "        P2 = E_matrix[:3,:]\n",
    "        X,_ = triangulate_many(xy1, xy2, P1, P2)\n",
    "        X_camera2 = P2@X\n",
    "        \n",
    "        possible_max = np.sum((X_camera2[2] >= 0))\n",
    "        if max_positive_z < possible_max:\n",
    "            max_positive_z = possible_max\n",
    "            best_P2_matrix = E_matrix\n",
    "    return best_P2_matrix\n",
    "\n",
    "P2 = choose_best_E_for_P2(decompose_E(E))\n",
    "X,UX = triangulate_many(xy1, xy2, P1, P2)"
   ]
  },
  {
   "cell_type": "code",
   "execution_count": 273,
   "metadata": {},
   "outputs": [
    {
     "name": "stdout",
     "output_type": "stream",
     "text": [
      "[[-7.07106781e-14]\n",
      " [-1.34800117e-12]\n",
      " [-7.07106781e-01]\n",
      " [-7.07106781e-01]]\n"
     ]
    }
   ],
   "source": [
    "X\n",
    "print(UX)"
   ]
  },
  {
   "cell_type": "code",
   "execution_count": null,
   "metadata": {},
   "outputs": [],
   "source": []
  },
  {
   "cell_type": "code",
   "execution_count": null,
   "metadata": {},
   "outputs": [],
   "source": []
  }
 ],
 "metadata": {
  "kernelspec": {
   "display_name": "Python 3",
   "language": "python",
   "name": "python3"
  },
  "language_info": {
   "codemirror_mode": {
    "name": "ipython",
    "version": 3
   },
   "file_extension": ".py",
   "mimetype": "text/x-python",
   "name": "python",
   "nbconvert_exporter": "python",
   "pygments_lexer": "ipython3",
   "version": "3.6.6"
  }
 },
 "nbformat": 4,
 "nbformat_minor": 4
}
