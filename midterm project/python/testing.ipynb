{
 "cells": [
  {
   "cell_type": "code",
   "execution_count": 8,
   "metadata": {},
   "outputs": [
    {
     "name": "stdout",
     "output_type": "stream",
     "text": [
      "26\n"
     ]
    }
   ],
   "source": [
    "import numpy as np\n",
    "\n",
    "n = 7\n",
    "m = 5 + 3*n\n",
    "p = np.zeros((m))\n",
    "p[5:] = np.zeros((3*n)) + 2\n",
    "p[7]  = 1\n",
    "p_3D = p[5:].reshape(3,n,order=\"F\")\n",
    "p1 = p_3D[:,:3]*0\n",
    "p2 = p_3D[:,3:]\n",
    "np.hstack([p1, p2])\n",
    "p[:5] = [0.1145, 0.325,-0.050,0.65,-0.030]\n",
    "p[:5]\n",
    "#print( np.vstack((p2, np.ones(p2.shape[1]))))\n",
    "print(p.shape[0])"
   ]
  },
  {
   "cell_type": "code",
   "execution_count": 60,
   "metadata": {},
   "outputs": [
    {
     "name": "stdout",
     "output_type": "stream",
     "text": [
      "[[-0.13   0.18   0.43  -0.035 -0.035 -0.035 -0.035]\n",
      " [-0.01  -0.01  -0.01  -0.09  -0.18   0.2    0.1  ]\n",
      " [ 0.01   0.01   0.01  -0.04  -0.06  -0.05  -0.04 ]]\n"
     ]
    },
    {
     "data": {
      "text/plain": [
       "array([-0.13 , -0.01 ,  0.01 ,  0.18 , -0.01 ,  0.01 ,  0.43 , -0.01 ,\n",
       "        0.01 , -0.035, -0.09 , -0.04 , -0.035, -0.18 , -0.06 , -0.035,\n",
       "        0.2  , -0.05 , -0.035,  0.1  , -0.04 ])"
      ]
     },
     "execution_count": 60,
     "metadata": {},
     "output_type": "execute_result"
    }
   ],
   "source": [
    "heli_points = np.loadtxt('../data/heli_points.txt').T[:3,:]\n",
    "print(heli_points)\n",
    "heli_points.reshape(21,order=\"F\")"
   ]
  },
  {
   "cell_type": "markdown",
   "metadata": {},
   "source": [
    "  "
   ]
  },
  {
   "cell_type": "code",
   "execution_count": 42,
   "metadata": {},
   "outputs": [
    {
     "name": "stdout",
     "output_type": "stream",
     "text": [
      "[1. 1. 1. 1. 1. 0. 1.]\n"
     ]
    }
   ],
   "source": [
    "detections = np.loadtxt('../data/detections.txt')\n",
    "detections.shape\n",
    "l = 351\n",
    "n = 7\n",
    "uv = np.zeros((2*l,n))\n",
    "weights = np.zeros((l,n))\n",
    "for image_number in range(l):\n",
    "    uv[2*image_number,:]      = detections[image_number, 1::3]\n",
    "    uv[2*image_number+1,:]    = detections[image_number, 2::3]\n",
    "    weights[image_number,:] = detections[image_number, ::3]\n",
    "\n",
    "print(weights.reshape(351*7))\n",
    "\n",
    "\n"
   ]
  },
  {
   "cell_type": "code",
   "execution_count": 4,
   "metadata": {},
   "outputs": [
    {
     "data": {
      "text/plain": [
       "array([[0., 0., 0., ..., 0., 0., 0.],\n",
       "       [1., 1., 1., ..., 1., 1., 1.],\n",
       "       [0., 0., 0., ..., 0., 0., 0.],\n",
       "       ...,\n",
       "       [1., 1., 1., ..., 1., 1., 1.],\n",
       "       [0., 0., 0., ..., 0., 0., 0.],\n",
       "       [1., 1., 1., ..., 1., 1., 1.]])"
      ]
     },
     "execution_count": 4,
     "metadata": {},
     "output_type": "execute_result"
    }
   ],
   "source": [
    "uv = np.zeros((351*2,7))\n",
    "for i in range(351):\n",
    "    uv[2*i+1,:] = 1\n",
    "    \n",
    "uv"
   ]
  },
  {
   "cell_type": "code",
   "execution_count": 46,
   "metadata": {},
   "outputs": [
    {
     "data": {
      "text/plain": [
       "array([[ 0.,  5.,  0.,  0.,  0.,  0.,  5.,  2.,  2.,  2.,  2.,  2.,  2.,\n",
       "         9.,  1.,  1.,  1.,  1.,  1.,  1.,  7.,  3.,  3.,  3.,  3.,  3.,\n",
       "         3., 11.]])"
      ]
     },
     "execution_count": 46,
     "metadata": {},
     "output_type": "execute_result"
    }
   ],
   "source": [
    "e_u = np.array([[0,5,0,0,0,0,5],[1,1,1,1,1,1,7]])\n",
    "e_v = np.array([[2,2,2,2,2,2,9],[3,3,3,3,3,3,11]])\n",
    "r   = np.zeros((1,28))\n",
    "N = 7\n",
    "for i in range(2):\n",
    "    u = e_u[i,:]\n",
    "    v = e_v[i,:]\n",
    "    r[:,2*N*i:2*N*i+2*N] = np.hstack((u,v))\n",
    "\n",
    " #   r[:,2*N*(i):2*N*(i)+N] = \n",
    "r"
   ]
  },
  {
   "cell_type": "code",
   "execution_count": 7,
   "metadata": {},
   "outputs": [
    {
     "data": {
      "text/plain": [
       "array([[0, 5, 0],\n",
       "       [5, 0, 5],\n",
       "       [1, 1, 1],\n",
       "       [7, 1, 7]])"
      ]
     },
     "execution_count": 7,
     "metadata": {},
     "output_type": "execute_result"
    }
   ],
   "source": [
    "import numpy as np\n",
    "\n",
    "L = 4\n",
    "X = np.array([[0,5,0],[5,0,5],[1,1,1],[7,1,7]])\n",
    "Y = X.reshape(3*L)\n",
    "angles = Y.reshape((L,3))\n",
    "angles\n"
   ]
  },
  {
   "cell_type": "code",
   "execution_count": null,
   "metadata": {},
   "outputs": [],
   "source": []
  }
 ],
 "metadata": {
  "kernelspec": {
   "display_name": "Python 3",
   "language": "python",
   "name": "python3"
  },
  "language_info": {
   "codemirror_mode": {
    "name": "ipython",
    "version": 3
   },
   "file_extension": ".py",
   "mimetype": "text/x-python",
   "name": "python",
   "nbconvert_exporter": "python",
   "pygments_lexer": "ipython3",
   "version": "3.6.6"
  }
 },
 "nbformat": 4,
 "nbformat_minor": 4
}
