{
 "cells": [
  {
   "cell_type": "code",
   "execution_count": 32,
   "metadata": {},
   "outputs": [
    {
     "data": {
      "text/plain": [
       "array([[1, 0, 3],\n",
       "       [2, 1, 1],\n",
       "       [2, 0, 1],\n",
       "       [4, 0, 1]])"
      ]
     },
     "execution_count": 32,
     "metadata": {},
     "output_type": "execute_result"
    }
   ],
   "source": [
    "import numpy as np\n",
    "\n",
    "t = np.array([[1, 0, 3,4,5,6,4,5,6],\n",
    "              [2, 1, 1,4,5,6,4,5,6],\n",
    "              [2, 0, 1,4,5,6,4,5,6],\n",
    "              [4, 0, 1,4,5,6,4,5,6]])\n",
    "\n",
    "t[:,0:3]"
   ]
  },
  {
   "cell_type": "code",
   "execution_count": 29,
   "metadata": {},
   "outputs": [
    {
     "data": {
      "text/plain": [
       "array([[1, 3, 5, 4, 6],\n",
       "       [2, 1, 5, 4, 6],\n",
       "       [2, 1, 5, 4, 6],\n",
       "       [4, 1, 5, 4, 6]])"
      ]
     },
     "execution_count": 29,
     "metadata": {},
     "output_type": "execute_result"
    }
   ],
   "source": [
    "t[:,np.mod(np.arange(t.shape[1]),2*1)<1]"
   ]
  },
  {
   "cell_type": "code",
   "execution_count": 56,
   "metadata": {},
   "outputs": [
    {
     "data": {
      "text/plain": [
       "array([[0, 5, 5],\n",
       "       [1, 5, 5],\n",
       "       [0, 5, 5]])"
      ]
     },
     "execution_count": 56,
     "metadata": {},
     "output_type": "execute_result"
    }
   ],
   "source": [
    "t[:, 1:t.shape[1]:3]"
   ]
  },
  {
   "cell_type": "code",
   "execution_count": 102,
   "metadata": {},
   "outputs": [
    {
     "data": {
      "text/plain": [
       "(3, 61)"
      ]
     },
     "execution_count": 102,
     "metadata": {},
     "output_type": "execute_result"
    }
   ],
   "source": [
    "n = np.zeros((3,182))\n",
    "n[:,n.shape[1]-1] = 3\n",
    "w = n[:,2::3]\n",
    "#n[:,n.shape[1]-1]\n",
    "w = np.append(w, np.array([n[:,n.shape[1]-1]]).T, axis=1)\n",
    "#w.shape\n",
    "w.shape\n",
    "\n"
   ]
  },
  {
   "cell_type": "code",
   "execution_count": 116,
   "metadata": {},
   "outputs": [
    {
     "data": {
      "text/plain": [
       "array([[1., 1.],\n",
       "       [2., 2.]])"
      ]
     },
     "execution_count": 116,
     "metadata": {},
     "output_type": "execute_result"
    }
   ],
   "source": [
    "d =np.array([[1,1]])\n",
    "s = np.array([[2,2]])\n",
    "f = np.zeros((2,2))\n",
    "f[0,:] = d\n",
    "f[1,:] = s\n",
    "f"
   ]
  },
  {
   "cell_type": "code",
   "execution_count": 11,
   "metadata": {},
   "outputs": [
    {
     "data": {
      "text/plain": [
       "1.0"
      ]
     },
     "execution_count": 11,
     "metadata": {},
     "output_type": "execute_result"
    }
   ],
   "source": [
    "np.sin(np.deg2rad(90))"
   ]
  },
  {
   "cell_type": "code",
   "execution_count": 16,
   "metadata": {},
   "outputs": [
    {
     "data": {
      "text/plain": [
       "array([[5.65685425],\n",
       "       [3.1316525 ],\n",
       "       [9.76732699],\n",
       "       [1.        ]])"
      ]
     },
     "execution_count": 16,
     "metadata": {},
     "output_type": "execute_result"
    }
   ],
   "source": [
    "def translate_z(z):\n",
    "    return np.array([[1, 0, 0, 0],\n",
    "                     [0, 1, 0, 0],\n",
    "                     [0, 0, 1, z],\n",
    "                     [0, 0, 0, 1]])\n",
    "\n",
    "#Rotation definitions\n",
    "def rotate_x(radians):\n",
    "    return np.array([[1, 0, 0, 0],\n",
    "                     [0, np.cos(radians), -np.sin(radians), 0],\n",
    "                     [0, np.sin(radians), np.cos(radians), 0],\n",
    "                     [0, 0, 0, 1]])\n",
    "\n",
    "def rotate_y(radians):\n",
    "    return np.array([[np.cos(radians), 0, np.sin(radians), 0],\n",
    "                     [0, 1, 0, 0],\n",
    "                     [-np.sin(radians), 0, np.cos(radians), 0],\n",
    "                     [0, 0, 0, 1]])\n",
    "\n",
    "x_3 = np.array([[2,4,6]])\n",
    "x_4 = np.array([[2,4,6,1]]).T\n",
    "\n",
    "n_4 = translate_z(6)@rotate_x(np.deg2rad(15))@rotate_y(np.deg2rad(45))@x_4\n",
    "n_4\n"
   ]
  },
  {
   "cell_type": "code",
   "execution_count": 27,
   "metadata": {},
   "outputs": [
    {
     "data": {
      "text/plain": [
       "array([[5.65685425],\n",
       "       [3.1316525 ],\n",
       "       [9.76732699]])"
      ]
     },
     "execution_count": 27,
     "metadata": {},
     "output_type": "execute_result"
    }
   ],
   "source": [
    "n_3 = np.array([[1, 0, 0, ],\n",
    "               [0, np.cos(np.deg2rad(15)), -np.sin(np.deg2rad(15))],\n",
    "                [0, np.sin(np.deg2rad(15)), np.cos(np.deg2rad(15))]])@np.array([[np.cos(np.deg2rad(45)), 0, np.sin(np.deg2rad(45))],\n",
    "                     [0, 1, 0],\n",
    "                     [-np.sin(np.deg2rad(45)), 0, np.cos(np.deg2rad(45))]])@x_3.T + np.array([[0,0,6]]).T\n",
    "n_3"
   ]
  },
  {
   "cell_type": "code",
   "execution_count": null,
   "metadata": {},
   "outputs": [],
   "source": []
  }
 ],
 "metadata": {
  "kernelspec": {
   "display_name": "Python 3",
   "language": "python",
   "name": "python3"
  },
  "language_info": {
   "codemirror_mode": {
    "name": "ipython",
    "version": 3
   },
   "file_extension": ".py",
   "mimetype": "text/x-python",
   "name": "python",
   "nbconvert_exporter": "python",
   "pygments_lexer": "ipython3",
   "version": "3.6.6"
  }
 },
 "nbformat": 4,
 "nbformat_minor": 4
}
