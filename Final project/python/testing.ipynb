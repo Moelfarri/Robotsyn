{
 "cells": [
  {
   "cell_type": "code",
   "execution_count": 2,
   "metadata": {},
   "outputs": [],
   "source": [
    "import matplotlib.pyplot as plt\n",
    "import numpy as np\n",
    "from util import *\n",
    "import cv2 as cv\n",
    "\n",
    "# This script uses example data. You will have to modify the\n",
    "# loading code below to suit how you structure your data.\n",
    "\n",
    "#MY CODE:\n",
    "K  = np.loadtxt('../visualization_sample_data/K.txt')       # Intrinsic matrix.\n",
    "\n",
    "I1 = cv.imread(\"../visualization_sample_data/query/IMG_8207.jpg\", cv.IMREAD_GRAYSCALE) #quaryImage\n",
    "\n",
    " \n",
    "# Initiate SIFT detector\n",
    "sift = cv.SIFT_create()\n",
    "\n",
    "#SIFT ONLY TAKES 8-bit images - so converting here:\n",
    "I1 = cv.normalize(I1, None, 0, 255, cv.NORM_MINMAX).astype('uint8')\n",
    "\n",
    "\n",
    "\n",
    "# find the keypoints and descriptors with SIFT\n",
    "kp1, des1 = sift.detectAndCompute(I1,None)\n"
   ]
  },
  {
   "cell_type": "code",
   "execution_count": 12,
   "metadata": {},
   "outputs": [],
   "source": [
    "import matplotlib.pyplot as plt\n",
    "import numpy as np\n",
    "from util import *\n",
    "import cv2 as cv\n",
    "\n",
    "K  = np.loadtxt('../visualization_sample_data/K.txt')       # Intrinsic matrix.\n",
    "\n",
    "I1 = cv.imread(\"../visualization_sample_data/query/IMG_8207.jpg\", cv.IMREAD_GRAYSCALE) #quaryImage\n",
    "\n",
    "surf = cv.xfeatures2d.SURF_create(400)\n",
    "# Find keypoints and descriptors directly\n",
    "kp, des = surf.detectAndCompute(I1,None)"
   ]
  },
  {
   "cell_type": "code",
   "execution_count": 26,
   "metadata": {},
   "outputs": [
    {
     "name": "stdout",
     "output_type": "stream",
     "text": [
      "[-1.45614240e-03 -9.68632521e-04  3.07481433e-03  1.33426476e-03\n",
      "  2.28246837e-03 -3.42615251e-03  5.80050610e-02  7.42705632e-03\n",
      "  1.30623262e-02 -3.16213770e-03  3.90657336e-02  1.19081745e-02\n",
      " -1.93170912e-03 -7.35913578e-04  2.53592175e-03  2.27061240e-03\n",
      " -6.92608347e-03  1.63494004e-03  2.30333004e-02  3.49352905e-03\n",
      "  1.78307354e-01  6.81513846e-02  4.14283693e-01  1.04070023e-01\n",
      " -3.82617079e-02  2.69451082e-01  2.49372736e-01  2.80877739e-01\n",
      " -1.28978956e-02  4.95282188e-03  1.94427073e-02  1.55423274e-02\n",
      " -8.42521805e-03  6.85818493e-03  1.99280940e-02  8.47476162e-03\n",
      "  2.03683421e-01 -8.04084241e-02  4.20143664e-01  1.16812304e-01\n",
      " -6.41592592e-02 -3.17241669e-01  2.91290820e-01  3.50206673e-01\n",
      " -2.46271584e-02  5.34082064e-03  3.64275947e-02  6.14725566e-03\n",
      " -1.21018523e-03 -1.94791041e-03  2.78114527e-03  2.06650374e-03\n",
      "  3.12756114e-02 -6.54510455e-03  4.42953594e-02  9.77594126e-03\n",
      " -1.01831397e-02  5.10990387e-04  5.35833091e-02  5.83754899e-03\n",
      " -8.04310385e-03 -2.92756682e-04  1.01544335e-02  1.54215400e-03]\n"
     ]
    }
   ],
   "source": [
    "print(des[2,:])"
   ]
  },
  {
   "cell_type": "code",
   "execution_count": 5,
   "metadata": {},
   "outputs": [],
   "source": [
    "K  = np.loadtxt('../visualization_sample_data/K.txt')       # Intrinsic matrix.\n",
    "\n",
    "I1 = cv.imread(\"../visualization_sample_data/query/IMG_8207.jpg\", cv.IMREAD_GRAYSCALE) #quaryImage\n",
    "\n",
    "sift = cv.xfeatures2d.SIFT_create()\n",
    "surf = cv.xfeatures2d.SURF_create(400)\n",
    "\n",
    "features = sift.detect(I1)\n",
    "\n",
    "kp ,des = sift.compute(I1,features)\n",
    "# Find keypoints and descriptors directly"
   ]
  },
  {
   "cell_type": "code",
   "execution_count": 10,
   "metadata": {},
   "outputs": [
    {
     "data": {
      "text/plain": [
       "(array([99., 10.,  8.,  2.,  2.,  1.,  0.,  0.,  0.,  6.]),\n",
       " array([  0. ,  18.4,  36.8,  55.2,  73.6,  92. , 110.4, 128.8, 147.2,\n",
       "        165.6, 184. ], dtype=float32),\n",
       " <a list of 10 Patch objects>)"
      ]
     },
     "execution_count": 10,
     "metadata": {},
     "output_type": "execute_result"
    },
    {
     "data": {
      "image/png": "[encoded data removed]",
      "text/plain": [
       "<Figure size 432x288 with 1 Axes>"
      ]
     },
     "metadata": {
      "needs_background": "light"
     },
     "output_type": "display_data"
    }
   ],
   "source": [
    "plt.hist(des[0,:])"
   ]
  },
  {
   "cell_type": "code",
   "execution_count": null,
   "metadata": {},
   "outputs": [],
   "source": []
  },
  {
   "cell_type": "code",
   "execution_count": 3,
   "metadata": {},
   "outputs": [
    {
     "ename": "ModuleNotFoundError",
     "evalue": "No module named 'pymagsac'",
     "output_type": "error",
     "traceback": [
      "\u001b[1;31m---------------------------------------------------------------------------\u001b[0m",
      "\u001b[1;31mModuleNotFoundError\u001b[0m                       Traceback (most recent call last)",
      "\u001b[1;32m<ipython-input-3-9cbdc7dcd428>\u001b[0m in \u001b[0;36m<module>\u001b[1;34m\u001b[0m\n\u001b[1;32m----> 1\u001b[1;33m \u001b[1;32mimport\u001b[0m \u001b[0mpymagsac\u001b[0m\u001b[1;33m\u001b[0m\u001b[0m\n\u001b[0m\u001b[0;32m      2\u001b[0m \u001b[1;33m\u001b[0m\u001b[0m\n",
      "\u001b[1;31mModuleNotFoundError\u001b[0m: No module named 'pymagsac'"
     ]
    }
   ],
   "source": [
    " import pymagsac\n",
    "\n"
   ]
  },
  {
   "cell_type": "code",
   "execution_count": 2,
   "metadata": {},
   "outputs": [
    {
     "ename": "AttributeError",
     "evalue": "module 'cv2' has no attribute 'USAC_MAGSAC'",
     "output_type": "error",
     "traceback": [
      "\u001b[1;31m---------------------------------------------------------------------------\u001b[0m",
      "\u001b[1;31mAttributeError\u001b[0m                            Traceback (most recent call last)",
      "\u001b[1;32m<ipython-input-2-12d10ad32e54>\u001b[0m in \u001b[0;36m<module>\u001b[1;34m\u001b[0m\n\u001b[1;32m----> 1\u001b[1;33m \u001b[0mprint\u001b[0m\u001b[1;33m(\u001b[0m\u001b[0mcv\u001b[0m\u001b[1;33m.\u001b[0m\u001b[0mUSAC_MAGSAC\u001b[0m\u001b[1;33m)\u001b[0m\u001b[1;33m\u001b[0m\u001b[0m\n\u001b[0m\u001b[0;32m      2\u001b[0m \u001b[1;33m\u001b[0m\u001b[0m\n\u001b[0;32m      3\u001b[0m \u001b[1;31m#cv.LMEDS - least-median of squares algorithm\u001b[0m\u001b[1;33m\u001b[0m\u001b[1;33m\u001b[0m\u001b[0m\n\u001b[0;32m      4\u001b[0m \u001b[1;31m#cv.RANSAC - Ransac algorithm\u001b[0m\u001b[1;33m\u001b[0m\u001b[1;33m\u001b[0m\u001b[0m\n\u001b[0;32m      5\u001b[0m \u001b[1;31m#cv.RHO - RHO algorithm\u001b[0m\u001b[1;33m\u001b[0m\u001b[1;33m\u001b[0m\u001b[0m\n",
      "\u001b[1;31mAttributeError\u001b[0m: module 'cv2' has no attribute 'USAC_MAGSAC'"
     ]
    }
   ],
   "source": [
    " print(cv.USAC_MAGSAC)\n",
    "\n",
    "#cv.LMEDS - least-median of squares algorithm\n",
    "#cv.RANSAC - Ransac algorithm\n",
    "#cv.RHO - RHO algorithm\n",
    "#cv.USAC_DEFAULT -  USAC algorithm, default settings.\n",
    "#cv.USAC_PROSAC -  USAC, sorted points, runs PROSAC. #TRY THIS IN ESSENTIAL MATRIX FINDING\n",
    "#cv.USAC_ACCURATE / FAST, etc...\n",
    "#cv.USAC_MAGSAC - Runs MAGSAC++\n",
    "\n"
   ]
  },
  {
   "cell_type": "code",
   "execution_count": 1,
   "metadata": {},
   "outputs": [
    {
     "name": "stdout",
     "output_type": "stream",
     "text": [
      "Running RANSAC with 4 inlier threshold and 1176 trials...Done!\n",
      "Found solution with 28919/28919 inliers\n"
     ]
    }
   ],
   "source": [
    "#TESTING OPENCV RANSACS:\n",
    "\n",
    "import matplotlib.pyplot as plt\n",
    "import numpy as np\n",
    "from util import *\n",
    "from triangulate_many import *\n",
    "from estimate_E_ransac import *\n",
    "from decompose_E import *\n",
    "import cv2 as cv\n",
    "\n",
    "#TODO: \n",
    "#ESTIMATE CAMERA POSE BY \n",
    "#1.PnP solver inside RANSAC\n",
    "#2.Nonlinear refinement that minimizes reprojection error\n",
    "\n",
    "\n",
    "K  = np.loadtxt('../visualization_sample_data/K.txt')       # Intrinsic matrix.\n",
    "I1 = cv.imread(\"../visualization_sample_data/query/IMG_8207.jpg\", cv.IMREAD_GRAYSCALE) #quaryImage\n",
    "I2 = cv.imread(\"../visualization_sample_data/query/IMG_8210.jpg\", cv.IMREAD_GRAYSCALE) #trainImage\n",
    "\n",
    "# Initiate SIFT detector\n",
    "sift = cv.SIFT_create()\n",
    "\n",
    "#SIFT ONLY TAKES 8-bit images - so converting here:\n",
    "I1 = cv.normalize(I1, None, 0, 255, cv.NORM_MINMAX).astype('uint8')\n",
    "I2 = cv.normalize(I2, None, 0, 255, cv.NORM_MINMAX).astype('uint8')\n",
    "\n",
    "\n",
    "# find the keypoints and descriptors with SIFT\n",
    "kp1, des1 = sift.detectAndCompute(I1,None)\n",
    "kp2, des2 = sift.detectAndCompute(I2,None)\n",
    "\n",
    "# BFMatching of the descriptors/features\n",
    "bf = cv.BFMatcher()\n",
    "matches = bf.match(des1,des2)\n",
    "\n",
    "\n",
    "#Pixel coordinates/point correspondences extracted:\n",
    "uv1 = np.array([kp1[mat.queryIdx].pt for mat in matches]).T\n",
    "uv2 = np.array([kp2[mat.trainIdx].pt for mat in matches]).T\n",
    "\n",
    "\n",
    "uv1_tilde = np.vstack((uv1, np.ones(uv1.shape[1])))\n",
    "uv2_tilde = np.vstack((uv1, np.ones(uv1.shape[1])))\n",
    "\n",
    " \n",
    "xy1 = np.linalg.inv(K)@uv1_tilde\n",
    "xy2 = np.linalg.inv(K)@uv2_tilde\n",
    "\n",
    "\n",
    "#Ransac without PnP: - WORKS:\n",
    "num_trials = get_num_ransac_trials(8, confidence=0.99, inlier_fraction=0.5)\n",
    "E1,inliers = estimate_E_ransac(xy1, xy2, K, distance_threshold=4, num_trials=num_trials)"
   ]
  },
  {
   "cell_type": "code",
   "execution_count": 2,
   "metadata": {},
   "outputs": [
    {
     "ename": "error",
     "evalue": "OpenCV(4.5.1) C:\\Users\\appveyor\\AppData\\Local\\Temp\\1\\pip-req-build-6uw63ony\\opencv\\modules\\calib3d\\src\\usac\\essential_solver.cpp:197: error: (-213:The function/feature is not implemented) To use essential matrix solver LAPACK or Eigen has to be installed! in function 'cv::usac::EssentialMinimalSolverStewenius5ptsImpl::estimate'\n",
     "output_type": "error",
     "traceback": [
      "\u001b[1;31m---------------------------------------------------------------------------\u001b[0m",
      "\u001b[1;31merror\u001b[0m                                     Traceback (most recent call last)",
      "\u001b[1;32m<ipython-input-2-8081b82d6e3e>\u001b[0m in \u001b[0;36m<module>\u001b[1;34m\u001b[0m\n\u001b[0;32m      4\u001b[0m \u001b[0mE_lmeds\u001b[0m\u001b[1;33m,\u001b[0m\u001b[0minliers\u001b[0m \u001b[1;33m=\u001b[0m \u001b[0mcv\u001b[0m\u001b[1;33m.\u001b[0m\u001b[0mfindEssentialMat\u001b[0m\u001b[1;33m(\u001b[0m\u001b[0muv1\u001b[0m\u001b[1;33m,\u001b[0m\u001b[0muv2\u001b[0m\u001b[1;33m,\u001b[0m\u001b[0mK\u001b[0m\u001b[1;33m,\u001b[0m\u001b[0mmethod\u001b[0m\u001b[1;33m=\u001b[0m\u001b[0mcv\u001b[0m\u001b[1;33m.\u001b[0m\u001b[0mLMEDS\u001b[0m\u001b[1;33m,\u001b[0m\u001b[0mthreshold\u001b[0m\u001b[1;33m=\u001b[0m\u001b[1;36m4\u001b[0m\u001b[1;33m)\u001b[0m\u001b[1;33m\u001b[0m\u001b[0m\n\u001b[0;32m      5\u001b[0m \u001b[0mE_rho\u001b[0m\u001b[1;33m,\u001b[0m\u001b[0minliers\u001b[0m \u001b[1;33m=\u001b[0m \u001b[0mcv\u001b[0m\u001b[1;33m.\u001b[0m\u001b[0mfindEssentialMat\u001b[0m\u001b[1;33m(\u001b[0m\u001b[0muv1\u001b[0m\u001b[1;33m,\u001b[0m\u001b[0muv2\u001b[0m\u001b[1;33m,\u001b[0m\u001b[0mK\u001b[0m\u001b[1;33m,\u001b[0m\u001b[0mmethod\u001b[0m\u001b[1;33m=\u001b[0m\u001b[0mcv\u001b[0m\u001b[1;33m.\u001b[0m\u001b[0mRHO\u001b[0m\u001b[1;33m,\u001b[0m\u001b[0mthreshold\u001b[0m\u001b[1;33m=\u001b[0m\u001b[1;36m4\u001b[0m\u001b[1;33m)\u001b[0m\u001b[1;33m\u001b[0m\u001b[0m\n\u001b[1;32m----> 6\u001b[1;33m \u001b[0mE_rho\u001b[0m\u001b[1;33m,\u001b[0m\u001b[0minliers\u001b[0m \u001b[1;33m=\u001b[0m \u001b[0mcv\u001b[0m\u001b[1;33m.\u001b[0m\u001b[0mfindEssentialMat\u001b[0m\u001b[1;33m(\u001b[0m\u001b[0muv1\u001b[0m\u001b[1;33m,\u001b[0m\u001b[0muv2\u001b[0m\u001b[1;33m,\u001b[0m\u001b[0mK\u001b[0m\u001b[1;33m,\u001b[0m\u001b[0mmethod\u001b[0m\u001b[1;33m=\u001b[0m\u001b[0mcv\u001b[0m\u001b[1;33m.\u001b[0m\u001b[0mUSAC_DEFAULT\u001b[0m\u001b[1;33m,\u001b[0m\u001b[0mthreshold\u001b[0m\u001b[1;33m=\u001b[0m\u001b[1;36m4\u001b[0m\u001b[1;33m)\u001b[0m\u001b[1;33m\u001b[0m\u001b[0m\n\u001b[0m\u001b[0;32m      7\u001b[0m \u001b[1;33m\u001b[0m\u001b[0m\n\u001b[0;32m      8\u001b[0m \u001b[1;33m\u001b[0m\u001b[0m\n",
      "\u001b[1;31merror\u001b[0m: OpenCV(4.5.1) C:\\Users\\appveyor\\AppData\\Local\\Temp\\1\\pip-req-build-6uw63ony\\opencv\\modules\\calib3d\\src\\usac\\essential_solver.cpp:197: error: (-213:The function/feature is not implemented) To use essential matrix solver LAPACK or Eigen has to be installed! in function 'cv::usac::EssentialMinimalSolverStewenius5ptsImpl::estimate'\n"
     ]
    }
   ],
   "source": [
    "\n",
    "uv1 = uv1.reshape(-1,1,2)\n",
    "uv2 = uv2.reshape(-1,1,2)\n",
    "E_r,inliers = cv.findEssentialMat(uv1,uv2,K,method=cv.RANSAC,threshold=4)\n",
    "E_lmeds,inliers = cv.findEssentialMat(uv1,uv2,K,method=cv.LMEDS,threshold=4)\n",
    "E_rho,inliers = cv.findEssentialMat(uv1,uv2,K,method=cv.RHO,threshold=4)\n",
    "\n",
    "\n",
    "\n",
    "\n",
    "#cv.LMEDS - least-median of squares algorithm\n",
    "#cv.RANSAC - Ransac algorithm\n",
    "#cv.RHO - RHO algorithm\n",
    "#cv.USAC_DEFAULT -  USAC algorithm, default settings.\n",
    "#cv.USAC_PROSAC -  USAC, sorted points, runs PROSAC. #TRY THIS IN ESSENTIAL MATRIX FINDING\n",
    "#cv.USAC_ACCURATE / FAST, etc...\n",
    "#cv.USAC_MAGSAC - Runs MAGSAC++\n",
    "\n"
   ]
  },
  {
   "cell_type": "code",
   "execution_count": null,
   "metadata": {},
   "outputs": [],
   "source": [
    "print(E1)\n",
    "print(E)\n",
    "print(E_lmeds)\n",
    "print(E_magsac)"
   ]
  },
  {
   "cell_type": "code",
   "execution_count": 15,
   "metadata": {},
   "outputs": [],
   "source": [
    "F_loransac,inliers_loransac = cv.findFundamentalMat(uv1,uv2,cv.USAC_DEFAULT) #Default LO-RANSAC\n",
    "F_lopr,inliers_lopr = cv.findFundamentalMat(uv1,uv2,cv.USAC_PARALLEL)        #LO-RANSAC + RANSAC\n",
    "F_prosac,inliers_prosac = cv.findFundamentalMat(uv1,uv2,cv.USAC_PROSAC)      #Prosac\n",
    "F_gcransac,inliers_gcransac = cv.findFundamentalMat(uv1,uv2,cv.USAC_ACCURATE)#GC-RANSAC\n",
    "F_magsac,inliers_magsac = cv.findFundamentalMat(uv1,uv2,cv.USAC_MAGSAC)      #MAGSAC++\n",
    "\n",
    "#cv.RANSAC - Ransac algorithm\n",
    "#cv.LMEDS - least-median of squares algorithm\n",
    "#cv.RHO - RHO algorithm\n",
    "#USAC_DEFAULT – has standard LO-RANSAC.\n",
    "#USAC_PARALLEL – has LO-RANSAC and RANSACs run in parallel.\n",
    "#USAC_ACCURATE – has GC-RANSAC.\n",
    "#USAC_FAST – has LO-RANSAC with smaller number iterations in local optimization step. Uses RANSAC score to maximize number of inliers and terminate earlier.\n",
    "#USAC_PROSAC – has PROSAC sampling. Note, points must be sorted. <- NOTE POINTS MUST BE SORTED\n",
    "#USAC_FM_8PTS – has LO-RANSAC. Only valid for Fundamental matrix with 8-points solver.\n",
    "#USAC_MAGSAC – has MAGSAC++. \n",
    "\n",
    "#TODO FIND E FROM F:\n",
    "#E= K.T@F@K"
   ]
  },
  {
   "cell_type": "code",
   "execution_count": null,
   "metadata": {},
   "outputs": [],
   "source": []
  },
  {
   "cell_type": "code",
   "execution_count": null,
   "metadata": {},
   "outputs": [],
   "source": []
  }
 ],
 "metadata": {
  "kernelspec": {
   "display_name": "Python 3",
   "language": "python",
   "name": "python3"
  },
  "language_info": {
   "codemirror_mode": {
    "name": "ipython",
    "version": 3
   },
   "file_extension": ".py",
   "mimetype": "text/x-python",
   "name": "python",
   "nbconvert_exporter": "python",
   "pygments_lexer": "ipython3",
   "version": "3.6.6"
  }
 },
 "nbformat": 4,
 "nbformat_minor": 4
}
